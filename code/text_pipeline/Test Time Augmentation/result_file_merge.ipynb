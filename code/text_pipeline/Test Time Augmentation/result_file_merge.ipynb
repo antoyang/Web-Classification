{
 "cells": [
  {
   "cell_type": "code",
   "execution_count": 8,
   "metadata": {},
   "outputs": [],
   "source": [
    "import os\n",
    "\n",
    "def remove_empty_lines(filename):\n",
    "    if not os.path.isfile(filename):\n",
    "        print(\"{} does not exist \".format(filename))\n",
    "        return\n",
    "    with open(filename) as filehandle:\n",
    "        lines = filehandle.readlines()\n",
    "\n",
    "    with open(filename, 'w') as filehandle:\n",
    "        lines = filter(lambda x: x.strip(), lines)\n",
    "        filehandle.writelines(lines) \n",
    "        \n",
    "remove_empty_lines(\"concat_res.csv\")"
   ]
  },
  {
   "cell_type": "code",
   "execution_count": 10,
   "metadata": {},
   "outputs": [],
   "source": [
    "import numpy as np\n",
    "import csv\n",
    "\n",
    "def merge_result(file_name1, file_name2, file_name_3, output_file_name):\n",
    "    with open(output_file_name, \"w\") as final, open(file_name1, \"r\") as f,open(file_name2, \"r\") as g, open( file_name_3, \"r\") as h:\n",
    "            writer = csv.writer(final, delimiter=',')\n",
    "            first_line = True\n",
    "            for x, y, z in zip(f, g, h):\n",
    "                if first_line:\n",
    "                    final.write(x)\n",
    "                    first_line = False\n",
    "                    continue\n",
    "                entry = x.split(\",\")[0]\n",
    "                prob1 = np.array([float(prob) for prob in x.split(\",\")[1:]])\n",
    "                prob2 = np.array([float(prob) for prob in y.split(\",\")[1:]])\n",
    "                prob3 = np.array([float(prob) for prob in z.split(\",\")[1:]])\n",
    "                final_prob = prob1 + prob2 + prob3\n",
    "                final_prob = final_prob/3\n",
    "                final_prob = list(final_prob)\n",
    "                final_prob.insert(0, entry)\n",
    "                writer.writerow(final_prob)\n",
    "\n",
    "                \n",
    "merge_result(\"camembert_results.csv\", \"lr_tfidf_baseline.csv\", \"concat_res.csv\", \"final_result3.csv\")"
   ]
  },
  {
   "cell_type": "code",
   "execution_count": 12,
   "metadata": {},
   "outputs": [],
   "source": [
    "import numpy as np\n",
    "import csv\n",
    "\n",
    "def merge_result(file_name1, file_name2, output_file_name):\n",
    "    with open(output_file_name, \"w\") as final, open(file_name1, \"r\") as f,open(file_name2, \"r\") as g:\n",
    "            writer = csv.writer(final, delimiter=',')\n",
    "            first_line = True\n",
    "            for x, y in zip(f, g):\n",
    "                if first_line:\n",
    "                    final.write(x)\n",
    "                    first_line = False\n",
    "                    continue\n",
    "                entry = x.split(\",\")[0]\n",
    "                prob1 = np.array([float(prob) for prob in x.split(\",\")[1:]])\n",
    "                prob2 = np.array([float(prob) for prob in y.split(\",\")[1:]])\n",
    "                final_prob = prob1 + prob2\n",
    "                final_prob = final_prob/2\n",
    "                final_prob = list(final_prob)\n",
    "                final_prob.insert(0, entry)\n",
    "                writer.writerow(final_prob)\n",
    "                \n",
    "merge_result(\"camembert_results.csv\", \"lr_tfidf_baseline.csv\", \"final_result2.csv\")"
   ]
  },
  {
   "cell_type": "code",
   "execution_count": null,
   "metadata": {},
   "outputs": [],
   "source": []
  }
 ],
 "metadata": {
  "kernelspec": {
   "display_name": "Python 3",
   "language": "python",
   "name": "python3"
  },
  "language_info": {
   "codemirror_mode": {
    "name": "ipython",
    "version": 3
   },
   "file_extension": ".py",
   "mimetype": "text/x-python",
   "name": "python",
   "nbconvert_exporter": "python",
   "pygments_lexer": "ipython3",
   "version": "3.7.5"
  }
 },
 "nbformat": 4,
 "nbformat_minor": 4
}
